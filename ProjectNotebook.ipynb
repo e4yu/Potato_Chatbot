{
 "cells": [
  {
   "cell_type": "markdown",
   "metadata": {},
   "source": [
    "# Project Description"
   ]
  },
  {
   "cell_type": "markdown",
   "metadata": {},
   "source": [
    "This is a chatbot which gives advice on what to do based on the user's mood, however it is more helpful if the user is feeling down. It will also end the chat when it can no longer help the user.\n",
    "\n",
    "-If they are feeling sad and someone is in danger, it will give a list of numbers they can call. \n",
    "-If they are bored, it will ask them to do something that makes them happy during their free time. \n",
    "-Lastly, if they are happy, it will ask them what made them feel that way.\n",
    "\n",
    "I had friends both in the class, and out of the class to talk to my chatbot and noticed that when they would reply to the questions, they would answer with either just 'yes' or 'no'. I wanted to fix this issue, but I found it difficult since my chatbot would ask multiple yes or no questions. Since I could use if, elif, and else statements my chatbot doesn't understand just 'yes' or 'no' answers, and the user has to be more specific when answering the questions."
   ]
  },
  {
   "cell_type": "markdown",
   "metadata": {},
   "source": [
    "# Project Code"
   ]
  },
  {
   "cell_type": "markdown",
   "metadata": {},
   "source": [
    "## Imported codes from A3"
   ]
  },
  {
   "cell_type": "code",
   "execution_count": 1,
   "metadata": {},
   "outputs": [],
   "source": [
    "import string\n",
    "import random\n",
    "import nltk"
   ]
  },
  {
   "cell_type": "markdown",
   "metadata": {},
   "source": [
    "## Functions for chatbot"
   ]
  },
  {
   "cell_type": "code",
   "execution_count": 2,
   "metadata": {},
   "outputs": [],
   "source": [
    "###Taken from A3\n",
    "def is_in_list(list_one, list_two):\n",
    "    ### if element is in list one, it should return list two\n",
    "    \n",
    "    for element in list_one:\n",
    "        if element in list_two:\n",
    "            return list_two\n",
    "    return False\n",
    "\n",
    "def find_in_list(list_one, list_two):\n",
    "    \"\"\"Find and return an element from list_one that is in list_two, or None otherwise.\"\"\"\n",
    "    \n",
    "    for element in list_one:\n",
    "        if element in list_one:\n",
    "            return list_two\n",
    "    return None\n",
    "\n",
    "def remove_punctuation(input_string):\n",
    "    out_string = ''\n",
    "    for character in input_string:\n",
    "        if character in string.punctuation:\n",
    "            continue\n",
    "        else:\n",
    "            out_string = out_string + character\n",
    "    return out_string\n",
    "\n",
    "def prepare_text(input_string):\n",
    "    temp_string = ''\n",
    "    out_list = ''\n",
    "    temp_string = input_string.lower()\n",
    "    temp_string = remove_punctuation (temp_string)\n",
    "    out_list = temp_string.split()\n",
    "    return out_list\n",
    "\n",
    "def is_question(input_string):\n",
    "    if '?'  in input_string:\n",
    "        output = True\n",
    "    else:\n",
    "        output = False\n",
    "    return output\n",
    "\n",
    "def string_concatenator(string1, string2, separator):\n",
    "    x = string1 + separator + string2\n",
    "    return x\n",
    "\n",
    "def selector(input_list, check_list, return_list):\n",
    "    output = None\n",
    "    for element in input_list:\n",
    "        if element in check_list:\n",
    "            output = random.choice(return_list)\n",
    "            break\n",
    "        else:\n",
    "            continue\n",
    "    return output\n",
    "\n",
    "def end_chat (input_list):\n",
    "    if 'quit' in input_list:\n",
    "        return True\n",
    "    else:\n",
    "        return False\n"
   ]
  },
  {
   "cell_type": "markdown",
   "metadata": {},
   "source": [
    "## Inputs and Outputs for chatbot"
   ]
  },
  {
   "cell_type": "code",
   "execution_count": 3,
   "metadata": {},
   "outputs": [],
   "source": [
    "GREETINGS_IN = ['hello', 'hi', 'hey', 'hola', 'welcome', 'bonjour', 'greetings']\n",
    "GREETINGS_OUT = [\"Hello, I'm Potato. I'm a chatbot that can help you with your mood and give advice on what you can do.\\n If you would like to end our chat, use 'quit'. \\n How are you feeling currently?\"]\n",
    "\n",
    "MOODS_NEGATIVE_IN =['sad', 'depressed', 'anxious', 'guilty', 'negative', 'ashamed', 'frustrated', 'upset', 'angry', 'bad']\n",
    "MOODS_NEGATIVE_OUT =[\"Can you explain why you're feeling that way?\"]\n",
    "\n",
    "DANGER_IN =['cry', 'crying', 'cried' , 'hurt', 'hurting', 'cut', 'cutting', 'hit', 'hitting', 'danger', 'pain'\n",
    "            'push', 'pushing', 'pushed', 'abuse', 'abused', 'abusing', 'death', 'dying', 'disappear', 'leave', 'died', 'suicide', 'suicidal' , 'self harm', 'self-harm', 'self injury',]\n",
    "DANGER_OUT =['Are you or someone else in danger? Could you explain the situation?']\n",
    "DANGER_YES_OUT = \"I think you should contact someone \\n if it's an emergency call \\n\\t>911\\n if it's not an emergency call either \\n\\t> 619-531-20000 \\n\\t> 858-484-3154 \\n if you're outside of San Diego: \\n\\t 619-531-2065 \\n if this involves depression or suicide contact either \\n\\t> CAPS 858-534-3755 \\n\\t> National Sucide Prevention line 1-800-273-8255 \"\n",
    "DANGER_NO_OUT= \"I'm glad, but can you tell me why you're sad?\"\n",
    "\n",
    "MOODS_POSITIVE_IN = ['happy', 'excited', 'cheerful', 'joyful', 'glad', 'thrilled' , 'good']\n",
    "MOODS_POSITIVE_OUT = [\"That's good to hear! Keep up what you're doing! I don't any have advice for you currently :( \\n Talk to you again soon!\"] \n",
    "\n",
    "MOODS_ODD_IN = ['bored', 'tired','okay','decent','fine', 'alright']\n",
    "MOODS_ODD_OUT =['Do you have free time right now?']\n",
    "MOODS_YES_OUT = 'What do you usually do when you are happy? I think you should try to do it right now!'\n",
    "FREETIME_IN = ['freetime', 'free time']\n",
    "FREETIME_OUT = 'Will you have free time later? You should try to do that later.'\n",
    "MOODS_NO_OUT= \"Most people either enjoy taking time to talk to their friends or taking time for themselves. \\n It's important to take care of yourself. \\n Try talking to a friend or taking alone time for about 10 minutes\"\n",
    "\n",
    "YES = ['yes','yeah','sure'] \n",
    "MAYBE= ['maybe', 'kind of', 'kinda', 'somewhat', 'sorta', 'some']\n",
    "NO = [\"can't\", 'no' , \"don't\" , \"do not\"]\n",
    "\n",
    "UNKNOWN = [\"I'm not advanced enough to understand that, could you tell me about your day or mood?\\n or be more specific?\"]\n",
    "QUESTION = \"Sorry I don't know how to answer that :(\"\n",
    "\n",
    "POTATO_IN = ['potato', 'potatoes', 'fries', 'mashed potatoes', 'french fries']\n",
    "POTATO_OUT =  \"That's my kind! D:<\"\n",
    "\n",
    "EATING_IN = ['eat', 'eating', 'food', 'devour', 'hungry', 'hunger']\n",
    "EATING_OUT = \"I love eating! Just don't eat my kind! D: \""
   ]
  },
  {
   "cell_type": "markdown",
   "metadata": {},
   "source": [
    "## Code for chatbot"
   ]
  },
  {
   "cell_type": "code",
   "execution_count": 4,
   "metadata": {},
   "outputs": [],
   "source": [
    "##Most code is referenced from A3\n",
    "\n",
    "def Potato():\n",
    "    \"\"\"Main function to run the chatbot.\"\"\"\n",
    "    \n",
    "    chat = True\n",
    "    while chat:\n",
    "\n",
    "        # Get a message from the user\n",
    "        msg = input('INPUT :\\t')\n",
    "        out_msg = None\n",
    "\n",
    "        # Check if the input is a question\n",
    "        question = is_question(msg)\n",
    "\n",
    "        # Prepare the input message\n",
    "        msg = prepare_text(msg)\n",
    "        \n",
    "###Code below this is my unique code\n",
    "\n",
    "        # Check for an end msg \n",
    "        if end_chat(msg):\n",
    "            out_msg = 'Thanks for talking to me! \\n I hope to hear from you again, bye!'\n",
    "            chat = False\n",
    "\n",
    "        # Check for a selection of topics that we have defined to respond to\n",
    "        #   Here, we will check for a series of topics that we have designed to answer to\n",
    "        if not out_msg:\n",
    "\n",
    "            # Initialize to collect a list of possible outputs\n",
    "            outs = []\n",
    "\n",
    "            # Check if the input looks like a greeting, add a greeting output \n",
    "            if is_in_list(msg, GREETINGS_IN):\n",
    "                outs.append(selector(msg, GREETINGS_IN, GREETINGS_OUT))\n",
    "            \n",
    "            # Check if the input looks like a negative mood, add negative mood output\n",
    "            if is_in_list(msg, MOODS_NEGATIVE_IN):\n",
    "                outs.append(selector(msg, MOODS_NEGATIVE_IN, MOODS_NEGATIVE_OUT))\n",
    "\n",
    "           \n",
    "         #checks if message has danger words\n",
    "            if is_in_list(msg, DANGER_IN):\n",
    "                # and has yes, it'll give output with numbers to contact and end chat\n",
    "                if is_in_list(msg, YES):\n",
    "                    outs.append(DANGER_YES_OUT)\n",
    "                    chat = False\n",
    "                #and has no, it will ask why they're sad\n",
    "                elif is_in_list(msg,NO):\n",
    "                    outs.append(DANGER_NO_OUT)\n",
    "                #if only has danger words, will ask if they are in danger\n",
    "                else:\n",
    "                    outs.append(selector(msg, DANGER_IN, DANGER_OUT))\n",
    "\n",
    "                \n",
    "            # if message is unsure, it'll tell them to do something fun and ask if they have free time\n",
    "            if is_in_list(msg, MOODS_ODD_IN):\n",
    "                outs.append(selector(msg, MOODS_ODD_IN, MOODS_ODD_OUT))\n",
    "            \n",
    "            #checks if it has free time in the message\n",
    "            if is_in_list(msg,FREETIME_IN):\n",
    "                #and has yes, it will suggest them to do an activity and end chat\n",
    "                if is_in_list(msg,YES):\n",
    "                    outs.append(MOODS_YES_OUT)\n",
    "                    chat = False\n",
    "                # will tell them to try to do the activity later and end chat\n",
    "                else: \n",
    "                    outs.append(FREETIME_OUT)\n",
    "                    chat = False\n",
    "    \n",
    "            #Check if input looks like a positive mood, add positive mood output and ends chat\n",
    "            if is_in_list(msg, MOODS_POSITIVE_IN):\n",
    "                outs.append(selector(msg, MOODS_POSITIVE_IN, MOODS_POSITIVE_OUT))\n",
    "                chat = False\n",
    "             \n",
    "            # mention food or eating, will give reply about eating potatoes\n",
    "            if is_in_list(msg,EATING_IN):\n",
    "                outs.append(EATING_OUT)\n",
    "            \n",
    "            #if you mention potatoes or any form of potatoes it will end the chat\n",
    "            if is_in_list(msg, POTATO_IN):\n",
    "                outs.append(POTATO_OUT)\n",
    "                chat = False\n",
    "\n",
    "                \n",
    "###My unique code stops here\n",
    "\n",
    "            # IF YOU WANTED TO ADD MORE TOPICS TO RESPOND TO, YOU COULD ADD THEM IN HERE\n",
    "\n",
    "            # We could have selected multiple outputs from the topic search above (if multiple return possible outputs)\n",
    "            #   We also might have appended None in some cases, meaning we don't have a reply\n",
    "            #   To deal with this, we are going to randomly select an output from the set of outputs that are not None\n",
    "            options = list(filter(None, outs))\n",
    "            if options:\n",
    "                out_msg = random.choice(options)\n",
    "\n",
    "        # If we don't have an output yet, but the input was a question, return msg related to it being a question\n",
    "        if not out_msg and question:\n",
    "            out_msg = QUESTION\n",
    "\n",
    "        # Catch-all to say something if msg not caught & processed so far\n",
    "        if not out_msg:\n",
    "            out_msg = random.choice(UNKNOWN)\n",
    "\n",
    "        print('OUTPUT:', out_msg)"
   ]
  },
  {
   "cell_type": "markdown",
   "metadata": {},
   "source": [
    "## Example run through of Chatbot"
   ]
  },
  {
   "cell_type": "code",
   "execution_count": 5,
   "metadata": {},
   "outputs": [
    {
     "name": "stdout",
     "output_type": "stream",
     "text": [
      "INPUT :\they\n",
      "OUTPUT: Hello, I'm Potato. I'm a chatbot that can help you with your mood and give advice on what you can do.\n",
      " If you would like to end our chat, use 'quit'. \n",
      " How are you feeling currently?\n",
      "INPUT :\ti'm feeling sad \n",
      "OUTPUT: Can you explain why you're feeling that way?\n",
      "INPUT :\tI got hurt\n",
      "OUTPUT: Are you or someone else in danger? Could you explain the situation?\n",
      "INPUT :\tYes my friend and i are in pain\n",
      "OUTPUT: I'm not advanced enough to understand that, could you tell me about your day or mood?\n",
      " or be more specific?\n",
      "INPUT :\tyes my friend and i are hurt\n",
      "OUTPUT: I think you should contact someone \n",
      " if it's an emergency call \n",
      "\t>911\n",
      " if it's not an emergency call either \n",
      "\t> 619-531-20000 \n",
      "\t> 858-484-3154 \n",
      " if you're outside of San Diego: \n",
      "\t 619-531-2065 \n",
      " if this involves depression or suicide contact either \n",
      "\t> CAPS 858-534-3755 \n",
      "\t> National Sucide Prevention line 1-800-273-8255 \n"
     ]
    }
   ],
   "source": [
    "Potato()"
   ]
  },
  {
   "cell_type": "markdown",
   "metadata": {},
   "source": [
    " ## Test cell\n"
   ]
  },
  {
   "cell_type": "code",
   "execution_count": 6,
   "metadata": {},
   "outputs": [],
   "source": [
    "assert callable(is_in_list)\n",
    "assert callable(end_chat)\n",
    "assert callable(selector)\n",
    "assert isinstance(is_question(['what?']), bool)"
   ]
  }
 ],
 "metadata": {
  "kernelspec": {
   "display_name": "Python 3",
   "language": "python",
   "name": "python3"
  },
  "language_info": {
   "codemirror_mode": {
    "name": "ipython",
    "version": 3
   },
   "file_extension": ".py",
   "mimetype": "text/x-python",
   "name": "python",
   "nbconvert_exporter": "python",
   "pygments_lexer": "ipython3",
   "version": "3.6.7"
  }
 },
 "nbformat": 4,
 "nbformat_minor": 2
}
